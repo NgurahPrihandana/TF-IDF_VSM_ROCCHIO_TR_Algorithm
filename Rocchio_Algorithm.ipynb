{
 "cells": [
  {
   "cell_type": "code",
   "execution_count": 17,
   "metadata": {
    "tags": []
   },
   "outputs": [],
   "source": [
    "import os\n",
    "import numpy as np\n",
    "import pandas as pd\n",
    "import nltk\n",
    "import math\n",
    "import re # Import Regex\n",
    "# Import NLTK\n",
    "import nltk\n",
    "from nltk.corpus import stopwords\n",
    "from nltk.stem import PorterStemmer\n",
    "from nltk.tokenize import word_tokenize\n",
    "# End Import NLTK\n",
    "import math # Import Math"
   ]
  },
  {
   "cell_type": "code",
   "execution_count": 18,
   "metadata": {
    "tags": []
   },
   "outputs": [
    {
     "name": "stderr",
     "output_type": "stream",
     "text": [
      "[nltk_data] Downloading package stopwords to\n",
      "[nltk_data]     /Users/prihandana/nltk_data...\n",
      "[nltk_data]   Package stopwords is already up-to-date!\n",
      "[nltk_data] Downloading package punkt to\n",
      "[nltk_data]     /Users/prihandana/nltk_data...\n",
      "[nltk_data]   Package punkt is already up-to-date!\n"
     ]
    },
    {
     "data": {
      "text/plain": [
       "True"
      ]
     },
     "execution_count": 18,
     "metadata": {},
     "output_type": "execute_result"
    }
   ],
   "source": [
    "# Ensure necessary NLTK downloads\n",
    "nltk.download('stopwords')\n",
    "nltk.download('punkt')"
   ]
  },
  {
   "cell_type": "code",
   "execution_count": 85,
   "metadata": {},
   "outputs": [
    {
     "data": {
      "text/plain": [
       "1298"
      ]
     },
     "execution_count": 85,
     "metadata": {},
     "output_type": "execute_result"
    }
   ],
   "source": [
    "# Ambil list Stopwords dari file txt\n",
    "f = open(\"stopword/stopwords-en.txt\", \"r\")\n",
    "stopword_list = []\n",
    "for line in f:\n",
    "    stripped_line = line.strip()\n",
    "    line_list = stripped_line.split()\n",
    "    stopword_list.append(line_list[0])\n",
    "f.close()\n",
    "\n",
    "# print(stopword_list)\n",
    "len(stopword_list)"
   ]
  },
  {
   "cell_type": "code",
   "execution_count": 86,
   "metadata": {},
   "outputs": [
    {
     "data": {
      "text/plain": [
       "{'Doc5.txt': 'Training head cost factor on evidence evidence have',\n",
       " 'Doc4.txt': 'Arrive fire pattern each',\n",
       " 'Doc1.txt': 'My favorite favorite food documents is chocolate',\n",
       " 'Doc3.txt': 'My favorite food is chicken nugget',\n",
       " 'Doc2.txt': 'My favorite food is chocolate'}"
      ]
     },
     "execution_count": 86,
     "metadata": {},
     "output_type": "execute_result"
    }
   ],
   "source": [
    "documents_list = {}\n",
    "document_path = \"docs\"\n",
    "\n",
    "# os.listdir returns a list containing all files under the given path\n",
    "list_doc = os.listdir(document_path)\n",
    "\n",
    "\n",
    "for doc_name in list_doc:\n",
    "  if doc_name.endswith('.txt'):\n",
    "    try:\n",
    "      filepath = os.path.join(document_path, doc_name)\n",
    "      if os.path.isfile(filepath):\n",
    "        f = open(filepath, \"r\")\n",
    "        documents_list[doc_name] = f.read()\n",
    "        f.close()\n",
    "\n",
    "    except Exception as e:\n",
    "      print(e)\n",
    "\n",
    "document_count = len(documents_list)\n",
    "\n",
    "documents_list"
   ]
  },
  {
   "cell_type": "code",
   "execution_count": 87,
   "metadata": {},
   "outputs": [],
   "source": [
    "def tokenize(text):\n",
    "  # Convert text to lowercase (case folding)\n",
    "  text = text.lower()\n",
    "\n",
    "  # Remove Punctuation\n",
    "  text = re.sub(r'[^\\w\\s]', '', text)\n",
    "\n",
    "  # Break Word\n",
    "  words = re.findall(r'\\b\\w+\\b', text)\n",
    "\n",
    "  return words"
   ]
  },
  {
   "cell_type": "code",
   "execution_count": 88,
   "metadata": {},
   "outputs": [
    {
     "name": "stdout",
     "output_type": "stream",
     "text": [
      "Tokenized: ['training', 'head', 'cost', 'factor', 'on', 'evidence', 'evidence', 'have']\n",
      "\n",
      "Tokenized: ['arrive', 'fire', 'pattern', 'each']\n",
      "\n",
      "Tokenized: ['my', 'favorite', 'favorite', 'food', 'documents', 'is', 'chocolate']\n",
      "\n",
      "Tokenized: ['my', 'favorite', 'food', 'is', 'chicken', 'nugget']\n",
      "\n",
      "Tokenized: ['my', 'favorite', 'food', 'is', 'chocolate']\n",
      "\n"
     ]
    }
   ],
   "source": [
    "# Tokenize each document and store the tokenized content\n",
    "for doc_name, content in documents_list.items():\n",
    "    documents_list[doc_name] = {\n",
    "        'original': content,\n",
    "        'content': tokenize(content)\n",
    "    }\n",
    "\n",
    "# Display the tokenized documents\n",
    "for doc_name, doc in documents_list.items():\n",
    "    print(f\"Tokenized: {doc['content']}\\n\")"
   ]
  },
  {
   "cell_type": "code",
   "execution_count": 89,
   "metadata": {},
   "outputs": [],
   "source": [
    "def remove_stopwords(tokens):\n",
    "    # Remove stopwords from the list of tokens\n",
    "    filtered_tokens = [token for token in tokens if token not in stopword_list]\n",
    "\n",
    "    return filtered_tokens"
   ]
  },
  {
   "cell_type": "code",
   "execution_count": 90,
   "metadata": {},
   "outputs": [
    {
     "name": "stdout",
     "output_type": "stream",
     "text": [
      "Stopwords: ['training', 'head', 'cost', 'factor', 'evidence', 'evidence']\n",
      "\n",
      "Stopwords: ['arrive', 'pattern']\n",
      "\n",
      "Stopwords: ['favorite', 'favorite', 'food', 'documents', 'chocolate']\n",
      "\n",
      "Stopwords: ['favorite', 'food', 'chicken', 'nugget']\n",
      "\n",
      "Stopwords: ['favorite', 'food', 'chocolate']\n",
      "\n"
     ]
    }
   ],
   "source": [
    "# Remove stopwords from the tokenized content\n",
    "for doc_name, doc in documents_list.items():\n",
    "    documents_list[doc_name]['content'] = remove_stopwords(doc['content'])\n",
    "\n",
    "# Display the documents after stopwords removal\n",
    "for doc_name, doc in documents_list.items():\n",
    "    print(f\"Stopwords: {doc['content']}\\n\")"
   ]
  },
  {
   "cell_type": "code",
   "execution_count": 91,
   "metadata": {},
   "outputs": [],
   "source": [
    "# Initialize Porter Stemmer\n",
    "stemmer = PorterStemmer()\n",
    "\n",
    "def stem_tokens(tokens):\n",
    "    # Perform stemming on each token\n",
    "    stemmed_tokens = [stemmer.stem(token) for token in tokens]\n",
    "\n",
    "    return stemmed_tokens"
   ]
  },
  {
   "cell_type": "code",
   "execution_count": 92,
   "metadata": {},
   "outputs": [
    {
     "name": "stdout",
     "output_type": "stream",
     "text": [
      "Stopwords: ['train', 'head', 'cost', 'factor', 'evid', 'evid']\n",
      "\n",
      "Stopwords: ['arriv', 'pattern']\n",
      "\n",
      "Stopwords: ['favorit', 'favorit', 'food', 'document', 'chocol']\n",
      "\n",
      "Stopwords: ['favorit', 'food', 'chicken', 'nugget']\n",
      "\n",
      "Stopwords: ['favorit', 'food', 'chocol']\n",
      "\n"
     ]
    }
   ],
   "source": [
    "# Stemming dokumen\n",
    "for doc_name, doc in documents_list.items():\n",
    "    documents_list[doc_name]['content'] = stem_tokens(doc['content'])\n",
    "\n",
    "# Display the documents after stemming\n",
    "for doc_name, doc in documents_list.items():\n",
    "    print(f\"Stopwords: {doc['content']}\\n\")"
   ]
  },
  {
   "cell_type": "code",
   "execution_count": 93,
   "metadata": {
    "tags": []
   },
   "outputs": [
    {
     "data": {
      "text/plain": [
       "{'original': 'My favorite favorite food documents is chocolate',\n",
       " 'content': ['favorit', 'favorit', 'food', 'document', 'chocol']}"
      ]
     },
     "execution_count": 93,
     "metadata": {},
     "output_type": "execute_result"
    }
   ],
   "source": [
    "documents_list['Doc1.txt']"
   ]
  },
  {
   "cell_type": "code",
   "execution_count": 94,
   "metadata": {
    "tags": []
   },
   "outputs": [],
   "source": [
    "# Build the vocabulary\n",
    "vocab = set()\n",
    "for doc in documents_list.values():\n",
    "    vocab.update(doc['content'])\n",
    "vocab = list(vocab)"
   ]
  },
  {
   "cell_type": "code",
   "execution_count": 95,
   "metadata": {
    "tags": []
   },
   "outputs": [
    {
     "name": "stdout",
     "output_type": "stream",
     "text": [
      "['chicken', 'pattern', 'evid', 'nugget', 'chocol', 'train', 'factor', 'cost', 'food', 'favorit', 'head', 'arriv', 'document']\n"
     ]
    }
   ],
   "source": [
    "print(vocab)"
   ]
  },
  {
   "cell_type": "code",
   "execution_count": 96,
   "metadata": {
    "tags": []
   },
   "outputs": [],
   "source": [
    "# Vectorize documents\n",
    "document_vectors = {}\n",
    "for filename, doc in documents_list.items():\n",
    "    vector = [doc['content'].count(word) for word in vocab]\n",
    "    document_vectors[filename] = vector"
   ]
  },
  {
   "cell_type": "code",
   "execution_count": 97,
   "metadata": {
    "tags": []
   },
   "outputs": [
    {
     "name": "stdout",
     "output_type": "stream",
     "text": [
      "{'Doc5.txt': [0, 0, 2, 0, 0, 1, 1, 1, 0, 0, 1, 0, 0], 'Doc4.txt': [0, 1, 0, 0, 0, 0, 0, 0, 0, 0, 0, 1, 0], 'Doc1.txt': [0, 0, 0, 0, 1, 0, 0, 0, 1, 2, 0, 0, 1], 'Doc3.txt': [1, 0, 0, 1, 0, 0, 0, 0, 1, 1, 0, 0, 0], 'Doc2.txt': [0, 0, 0, 0, 1, 0, 0, 0, 1, 1, 0, 0, 0]}\n"
     ]
    }
   ],
   "source": [
    "print(document_vectors)"
   ]
  },
  {
   "cell_type": "code",
   "execution_count": 99,
   "metadata": {},
   "outputs": [],
   "source": [
    "def preprocess(text):\n",
    "    tokens = tokenize(text)\n",
    "    tokens = remove_stopwords(tokens)\n",
    "    tokens = stem_tokens(tokens)\n",
    "    return tokens"
   ]
  },
  {
   "cell_type": "code",
   "execution_count": 100,
   "metadata": {
    "tags": []
   },
   "outputs": [
    {
     "name": "stdout",
     "output_type": "stream",
     "text": [
      "Query Vector: [1, 0, 0, 1, 0, 0, 0, 0, 0, 0, 0, 0, 1]\n"
     ]
    }
   ],
   "source": [
    "# Preprocess and vectorize the query\n",
    "query = \"find documents about chicken nugget\"\n",
    "query_tokens = preprocess(query)\n",
    "query_vector = [query_tokens.count(word) for word in vocab]\n",
    "\n",
    "print(\"Query Vector:\", query_vector)"
   ]
  },
  {
   "cell_type": "code",
   "execution_count": 101,
   "metadata": {
    "tags": []
   },
   "outputs": [],
   "source": [
    "# Constants for Rocchio Algorithm\n",
    "alpha = 1\n",
    "beta = 0.75\n",
    "gamma = 0.25"
   ]
  },
  {
   "cell_type": "code",
   "execution_count": 102,
   "metadata": {
    "tags": []
   },
   "outputs": [],
   "source": [
    "# Manually mark some documents as relevant and non-relevant\n",
    "relevant_docs = ['Doc1.txt']  # Replace with actual relevant filenames"
   ]
  },
  {
   "cell_type": "code",
   "execution_count": 103,
   "metadata": {
    "tags": []
   },
   "outputs": [],
   "source": [
    "non_relevant_docs = ['Doc2.txt', 'Doc3.txt']  # Replace with actual non-relevant filenames"
   ]
  },
  {
   "cell_type": "code",
   "execution_count": 104,
   "metadata": {
    "tags": []
   },
   "outputs": [],
   "source": [
    "# Calculate centroids for relevant and non-relevant documents\n",
    "relevant_vectors = [document_vectors[doc] for doc in relevant_docs if doc in document_vectors]\n",
    "non_relevant_vectors = [document_vectors[doc] for doc in non_relevant_docs if doc in document_vectors]"
   ]
  },
  {
   "cell_type": "code",
   "execution_count": 113,
   "metadata": {
    "tags": []
   },
   "outputs": [],
   "source": [
    "# Calculate centroids for relevant and non-relevant documents\n",
    "relevant_centroid = np.mean(relevant_vectors, axis=0)\n",
    "non_relevant_centroid = np.mean(non_relevant_vectors, axis=0)"
   ]
  },
  {
   "cell_type": "code",
   "execution_count": 129,
   "metadata": {
    "tags": []
   },
   "outputs": [],
   "source": [
    "# Apply Rocchio Algorithm\n",
    "adjusted_query = alpha * np.array(query_vector) + beta * relevant_centroid - gamma * non_relevant_centroid"
   ]
  },
  {
   "cell_type": "code",
   "execution_count": 130,
   "metadata": {
    "tags": []
   },
   "outputs": [
    {
     "name": "stdout",
     "output_type": "stream",
     "text": [
      "[0.875 0.    0.    0.875 0.625 0.    0.    0.    0.5   1.25  0.    0.\n",
      " 1.75 ]\n"
     ]
    }
   ],
   "source": [
    "print(adjusted_query)"
   ]
  },
  {
   "cell_type": "code",
   "execution_count": 123,
   "metadata": {
    "tags": []
   },
   "outputs": [],
   "source": [
    "# Calculate cosine similarity\n",
    "def cosine_similarity(vec1, vec2):\n",
    "    dot_product = sum(p * q for p, q in zip(vec1, vec2))\n",
    "    magnitude1 = math.sqrt(sum([val ** 2 for val in vec1]))\n",
    "    magnitude2 = math.sqrt(sum([val ** 2 for val in vec2]))\n",
    "    if not magnitude1 or not magnitude2:\n",
    "        return 0\n",
    "    else:\n",
    "        return dot_product / (magnitude1 * magnitude2)"
   ]
  },
  {
   "cell_type": "code",
   "execution_count": 124,
   "metadata": {
    "tags": []
   },
   "outputs": [],
   "source": [
    "similarities = {}\n",
    "for filename, vector in document_vectors.items():\n",
    "    similarity = cosine_similarity(adjusted_query, vector)\n",
    "    similarities[filename] = similarity"
   ]
  },
  {
   "cell_type": "code",
   "execution_count": 131,
   "metadata": {},
   "outputs": [
    {
     "data": {
      "text/plain": [
       "{'Doc5.txt': np.float64(0.0),\n",
       " 'Doc4.txt': np.float64(0.0),\n",
       " 'Doc1.txt': np.float64(0.7792464045147061),\n",
       " 'Doc3.txt': np.float64(0.6712486220795378),\n",
       " 'Doc2.txt': np.float64(0.5259547057403532)}"
      ]
     },
     "execution_count": 131,
     "metadata": {},
     "output_type": "execute_result"
    }
   ],
   "source": [
    "similarities"
   ]
  },
  {
   "cell_type": "code",
   "execution_count": 125,
   "metadata": {
    "tags": []
   },
   "outputs": [],
   "source": [
    "# Sort documents by similarity score in descending order\n",
    "sorted_similarities = sorted(similarities.items(), key=lambda item: item[1], reverse=True)"
   ]
  },
  {
   "cell_type": "code",
   "execution_count": 126,
   "metadata": {
    "tags": []
   },
   "outputs": [
    {
     "name": "stdout",
     "output_type": "stream",
     "text": [
      "Most relevant document after Rocchio adjustment: Doc1.txt\n",
      "Similarity score: 0.7792464045147061\n"
     ]
    }
   ],
   "source": [
    "# Determine the most relevant document based on the adjusted query\n",
    "most_relevant = max(similarities, key=similarities.get)\n",
    "print(\"Most relevant document after Rocchio adjustment:\", most_relevant)\n",
    "print(\"Similarity score:\", similarities[most_relevant])"
   ]
  },
  {
   "cell_type": "code",
   "execution_count": 127,
   "metadata": {
    "tags": []
   },
   "outputs": [
    {
     "name": "stdout",
     "output_type": "stream",
     "text": [
      "Top 5 most relevant documents:\n",
      "Doc1.txt: 0.7792\n",
      "Doc3.txt: 0.6712\n",
      "Doc2.txt: 0.5260\n",
      "Doc5.txt: 0.0000\n",
      "Doc4.txt: 0.0000\n"
     ]
    }
   ],
   "source": [
    "# Display the top 5 most relevant documents\n",
    "top_documents = sorted_similarities[:5]\n",
    "print(\"Top 5 most relevant documents:\")\n",
    "for doc, score in top_documents:\n",
    "    print(f\"{doc}: {score:.4f}\")"
   ]
  },
  {
   "cell_type": "code",
   "execution_count": null,
   "metadata": {},
   "outputs": [],
   "source": []
  },
  {
   "cell_type": "code",
   "execution_count": null,
   "metadata": {},
   "outputs": [],
   "source": []
  }
 ],
 "metadata": {
  "kernelspec": {
   "display_name": "Python 3 (ipykernel)",
   "language": "python",
   "name": "python3"
  },
  "language_info": {
   "codemirror_mode": {
    "name": "ipython",
    "version": 3
   },
   "file_extension": ".py",
   "mimetype": "text/x-python",
   "name": "python",
   "nbconvert_exporter": "python",
   "pygments_lexer": "ipython3",
   "version": "3.11.9"
  }
 },
 "nbformat": 4,
 "nbformat_minor": 4
}
